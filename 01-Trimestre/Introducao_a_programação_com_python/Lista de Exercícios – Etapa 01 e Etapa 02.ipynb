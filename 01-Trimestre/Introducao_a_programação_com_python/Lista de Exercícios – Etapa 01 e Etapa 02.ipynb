{
 "cells": [
  {
   "cell_type": "markdown",
   "metadata": {},
   "source": [
    "### Lista de Exercícios – Etapa 01 e Etapa 02 – Versão 1"
   ]
  },
  {
   "cell_type": "markdown",
   "metadata": {},
   "source": [
    "1) Escreva um programa que pergunte para o usuário seu nome e depois seu\n",
    "sobrenome e exiba a seguinte mensagem:\n",
    "Seja bem-vindo ao INFNET, [Nome] [Sobrenome]"
   ]
  },
  {
   "cell_type": "code",
   "execution_count": null,
   "metadata": {},
   "outputs": [],
   "source": [
    "nome = input(\"Digite seu nome: \")\n",
    "sobrenome = input(\"Digite seu sobrenome: \")\n",
    "\n",
    "print(f\"Seja bem-vindo ao INFNET, {nome} {sobrenome}\")"
   ]
  },
  {
   "cell_type": "markdown",
   "metadata": {},
   "source": [
    "2) Crie um programa que receba um parágrafo e diga quantas palavras existem\n",
    "nesse texto. Considere que só existe exatamente um espaço entre as palavras."
   ]
  },
  {
   "cell_type": "code",
   "execution_count": null,
   "metadata": {},
   "outputs": [],
   "source": [
    "paragrafo = input(\"Digite um parágrafo: \")\n",
    "print(len(paragrafo.split()))\n"
   ]
  },
  {
   "cell_type": "markdown",
   "metadata": {},
   "source": [
    "3) Crie um programa que recebe um número inteiro N > 1 e gere uma risada\n",
    "“kkkk” com a quantidade de “k” iguais ao valor de N. Por exemplo, se N = 5 ele\n",
    "deve gerar a risada kkkkk."
   ]
  },
  {
   "cell_type": "code",
   "execution_count": null,
   "metadata": {},
   "outputs": [],
   "source": [
    "numero = int(input(\"Digite a quantidade de 'k': \"))\n",
    "print(\"k\" * numero)"
   ]
  },
  {
   "cell_type": "markdown",
   "metadata": {},
   "source": [
    "4) \"It is a period of civil war. Rebel programs, striking from a hidden computer,\n",
    "have won their first victory against the evil System Tests.\"\n",
    "Você deve estar ciente de que os eventos da saga Star Wars ocorreram há\n",
    "muito tempo, em uma galáxia bastante distante. Mas a que distância estava?\n",
    "Podemos tentar descrevê-lo repetindo a palavra far um certo número de vezes\n",
    "no seguinte formato de frase:\n",
    "A long time ago in a galaxy far, far away...\n",
    "No exemplo acima, a palavra far é repetida duas vezes. No entanto,\n",
    "gostaríamos de repeti-lo exatamente N vezes sem alterar o resto da frase. Deve\n",
    "haver uma vírgula logo após cada ocorrência, exceto a última.\n",
    "Dado N, você consegue produzir a frase corretamente?"
   ]
  },
  {
   "cell_type": "code",
   "execution_count": null,
   "metadata": {},
   "outputs": [],
   "source": [
    "qnt = int(input(\"Digite a quantidade: \"))\n",
    "\n",
    "far = 'far ' * qnt\n",
    "far = \", \".join(far.split())\n",
    "\n",
    "print(f\"A long time ago in a galaxy {far} away...\")"
   ]
  },
  {
   "cell_type": "markdown",
   "metadata": {},
   "source": [
    "5) Você conhece uma família com três filhos. Suas idades formam uma sequência\n",
    "aritmética, isto é, a diferença de idade entre o filho do meio e o filho mais novo\n",
    "é a mesma que a diferença de idade entre o filho mais velho e o filho do meio.\n",
    "Por exemplo, suas idades podem ser 5, 10 e 15, já que ambos os pares adjacentes\n",
    "têm uma diferença de 5 anos. Dadas as idades dos filhos mais novo e do meio,\n",
    "qual é a idade do filho mais velho?"
   ]
  },
  {
   "cell_type": "code",
   "execution_count": null,
   "metadata": {},
   "outputs": [],
   "source": [
    "novo = int(input(\"Digite a idade do filho mais novo: \"))\n",
    "meio = int(input(\"Digite a idade do filho do meio: \"))\n",
    "print(\"Idade do mais velho é \" + str((meio - novo) * 3))"
   ]
  },
  {
   "cell_type": "markdown",
   "metadata": {},
   "source": [
    "6) \"Ugh, tem estado tão quente ultimamente, por que tem que estar 32 graus...\n",
    "32 graus? Isso é congelar!\n",
    "É possível ter conversas confusas com americanos que assumem que você\n",
    "está usando Fahrenheit quando Celsius é claramente o mais óbvio. Em vez de\n",
    "discutir com eles, você se contentou em escrever um programa para converter\n",
    "convenientemente as temperaturas medidas em graus Celsius para Fahrenheit.\n",
    "Você se deparou com a seguinte fórmula, que é válida dada uma temperatura em\n",
    "graus Fahrenheit F e C é a mesma temperatura em graus Celsius:\n",
    "C = 5/9 (F-32)\n",
    "Dado um valor de C em graus Celsius determine o valor correspondente em\n",
    "Farenheit."
   ]
  },
  {
   "cell_type": "code",
   "execution_count": null,
   "metadata": {},
   "outputs": [],
   "source": [
    "C = float(input())\n",
    "F = C / (5 / 9) + 32\n",
    "print(f\"{C}° Celsius equivale a {F}° Farenheit.\")"
   ]
  },
  {
   "cell_type": "markdown",
   "metadata": {},
   "source": [
    "7) Jessie, James e Meowth, membros da honrada Equipe Rocket, infelizmente\n",
    "passaram por tempos difíceis. Com seus fundos necessariamente alocados para\n",
    "a construção de todos os tipos de robôs gigantes e outros dispositivos, eles tem\n",
    "tido dificuldade.\n",
    "James tem uma lata de tinta restante, contendo P litros de tinta. Quando\n",
    "combinado com sua coleção gigante de tampas de garrafa, isso pode resultar em\n",
    "alguns produtos de alta qualidade. Quando uma tampa de garrafa é\n",
    "artisticamente coberta com B litros de tinta, ela se transforma em um distintivo\n",
    "de ginásio certificado pela liga Pokémon completamente legítimo!\n",
    "James produzirá o máximo de emblemas que puder usando a tinta, usando\n",
    "B exatamente litros cada. Os treinadores de Pokémon adoram seus emblemas de\n",
    "ginásio, então cada um desses emblemas certamente será vendido por D\n",
    "Pokédólares.\n",
    "Pode acontecer de sobrar um pouco de tinta, uma vez que não seja o\n",
    "suficiente para outro distintivo completo. No entanto, não há necessidade de\n",
    "desperdiçá-la, James venderá qualquer tinta restante a uma taxa de 1 Pokédólar\n",
    "por litro.\n",
    "Quanto dinheiro James ganhará para a Equipe Rocket no total, com suas\n",
    "vendas de emblemas e sobras de tinta quando P = 14, B = 3 e N=10?"
   ]
  },
  {
   "cell_type": "code",
   "execution_count": null,
   "metadata": {},
   "outputs": [],
   "source": [
    "P = 14\n",
    "B = 3\n",
    "N = 10\n",
    "# 1 lata * P litros = quantidade de litros de tinta\n",
    "# cada emblema = 3 litros\n",
    "# D = N = valor de cada emblema\n",
    "# litro restante = 1 pokedolar\n",
    "emblemas = int(P / B)\n",
    "sobras = P % B\n",
    "valor = emblemas * N + sobras\n",
    "print(f\"A equipe Rocket ganhará R$ {valor}.\")"
   ]
  },
  {
   "cell_type": "markdown",
   "metadata": {},
   "source": [
    "8) Você está ajudando seu sobrinho a estudar matemática na escola. Ele está\n",
    "aprendendo divisão e você precisa conferir se a tarefa dele está correta. Como\n",
    "ele ainda não estudou os números reais você precisa verificar se ele calculou\n",
    "corretamente o quociente e o resto das divisões (divisão inteira). Para evitar erros\n",
    "você decide escrever um programa que pergunta para o usuário o dividendo e o\n",
    "divisor e mostra na tela o quociente e o resto da operação."
   ]
  },
  {
   "cell_type": "code",
   "execution_count": null,
   "metadata": {},
   "outputs": [],
   "source": [
    "dividendo = int(input(\"Digite o dividendo: \"))\n",
    "divisor = int(input(\"Digite o divisor: \"))\n",
    "resultado = int(dividendo / divisor)\n",
    "resto = dividendo % divisor\n",
    "\n",
    "print(f\"O quociente da divisão entre {dividendo} e {divisor} é {resultado} com {resto} de resto.\")"
   ]
  },
  {
   "cell_type": "markdown",
   "metadata": {},
   "source": [
    "9) Três amigos foram para um restaurante. O primeiro gastou 60 reais, o segundo\n",
    "gastou 1,5 vezes mais que o primeiro e o último a média entre o primeiro e o\n",
    "segundo. Faça um programa que calcula o total da conta do restaurante."
   ]
  },
  {
   "cell_type": "code",
   "execution_count": null,
   "metadata": {},
   "outputs": [],
   "source": [
    "primeiro = 60\n",
    "segundo = primeiro + 1.5 * primeiro\n",
    "terceiro = (primeiro + segundo) / 2\n",
    "conta = primeiro + segundo + terceiro\n",
    "print(f\"Primeiro = R$ {primeiro:.2f}, Segundo = R$ {segundo:.2f}, Terceiro = R$ {terceiro:.2f} ----- Conta = R$ {conta:.2f}\")"
   ]
  },
  {
   "cell_type": "markdown",
   "metadata": {},
   "source": [
    "10) Faça um programa que recebe do usuário o tamanho dos dois catetos de um\n",
    "triângulo retângulo e retorna qual o tamanho da hipotenusa. (Lembre do\n",
    "teorema de Pitágoras a**2 = b**2 + c**2). Será necessário pesquisar como\n",
    "calcular raiz quadrada em Python."
   ]
  },
  {
   "cell_type": "code",
   "execution_count": null,
   "metadata": {},
   "outputs": [],
   "source": [
    "a = int(input(\"Digite a medida de um cateto: \"))\n",
    "b = int(input(\"Digite a medida do outro cateto: \"))\n",
    "\n",
    "c = (a**2 + b**2) ** 0.5\n",
    "\n",
    "\n",
    "print(f\"O valor da hipotenusa é {c}\")"
   ]
  },
  {
   "cell_type": "markdown",
   "metadata": {},
   "source": [
    "11) Faça um programa que pergunta para o usuário o nome completo do mesmo\n",
    "e imprime quantas letras existem no nome dele completo e quantas letras\n",
    "existem no primeiro nome dele. Considere que o usuário sempre vai escrever o\n",
    "seu nome completo, isto é, sempre vai ter pelo menos um espaço na string para\n",
    "separar os nomes."
   ]
  },
  {
   "cell_type": "code",
   "execution_count": null,
   "metadata": {},
   "outputs": [],
   "source": [
    "nome_completo = input(\"Digite seu nome completo: \")\n",
    "letras = len(nome_completo.replace(\" \", \"\"))\n",
    "print(f\"Nome completo tem {letras} letras.\")\n",
    "final = nome_completo.find(\" \")\n",
    "print(f\"Primeiro nome tem {len(nome_completo[:final])} letras.\")"
   ]
  },
  {
   "cell_type": "markdown",
   "metadata": {},
   "source": [
    "12) Escreva um programa que dado uma palavra de entrada do usuário retorna\n",
    "quantas letras essa palavra possui."
   ]
  },
  {
   "cell_type": "code",
   "execution_count": null,
   "metadata": {},
   "outputs": [],
   "source": [
    "palavra = input(\"Digite uma palavra: \")\n",
    "\n",
    "print(f\"{palavra.title()} tem {len(palavra)} letras.\")"
   ]
  },
  {
   "cell_type": "markdown",
   "metadata": {},
   "source": [
    "13) Desafio: Um site de compras precisa a toda pesquisa calcular em quantas\n",
    "páginas diferentes deve apresentar os resultados da pesquisa. Por exemplo, se\n",
    "uma pesquisa tem 100 resultados e mostra 20 resultados por página, para\n",
    "mostrar todos os resultados são necessárias 5 páginas conforme a figura abaixo:\n",
    "Escreva um programa que dado a quantidade de resultados N e a quantidade de\n",
    "resultados por página P calcule a quantidade de páginas necessárias para mostrar\n",
    "todos os produtos."
   ]
  },
  {
   "cell_type": "code",
   "execution_count": null,
   "metadata": {},
   "outputs": [],
   "source": [
    "\n",
    "resultados = int(input(\"Digite a quantidade de resultados totais: \"))\n",
    "resultados_pagina = int(input(\"Digite a quantidade de resultados por página: \"))\n",
    "sobra = resultados % resultados_pagina\n",
    "if sobra > 0:\n",
    "    sobra = 1\n",
    "\n",
    "\n",
    "print(f\"Serão necessárias {int(resultados / resultados_pagina + sobra)} páginas.\")"
   ]
  }
 ],
 "metadata": {
  "kernelspec": {
   "display_name": "Python 3",
   "language": "python",
   "name": "python3"
  },
  "language_info": {
   "codemirror_mode": {
    "name": "ipython",
    "version": 3
   },
   "file_extension": ".py",
   "mimetype": "text/x-python",
   "name": "python",
   "nbconvert_exporter": "python",
   "pygments_lexer": "ipython3",
   "version": "3.11.9"
  }
 },
 "nbformat": 4,
 "nbformat_minor": 2
}
